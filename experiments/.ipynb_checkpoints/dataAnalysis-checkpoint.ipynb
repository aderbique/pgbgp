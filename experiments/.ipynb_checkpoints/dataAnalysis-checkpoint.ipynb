{
 "cells": [
  {
   "cell_type": "code",
   "execution_count": 1,
   "metadata": {},
   "outputs": [],
   "source": [
    "import pandas as pd\n",
    "import matplotlib.pyplot as plt\n",
    "import numpy as np\n",
    "import os"
   ]
  },
  {
   "cell_type": "code",
   "execution_count": 2,
   "metadata": {},
   "outputs": [
    {
     "name": "stdout",
     "output_type": "stream",
     "text": [
      "{'10.1.12.2': 64514, '10.1.15.1': 64515, '10.1.13.2': 64516, '10.1.17.1': 64517, '10.1.12.1': 64512, '10.1.14.2': 64518, '10.1.15.2': 64512, '10.1.11.1': 64516, '10.1.18.1': 64518, '10.1.10.2': 64519, '10.1.13.1': 64513, '10.1.11.2': 64515, '10.1.9.1': 64519, '10.1.16.2': 64520, '10.1.17.2': 64513, '10.1.20.1': 64520, '10.1.14.1': 64514, '10.1.18.2': 64515, '10.1.19.1': 64519, '10.1.21.1': 64520, '10.1.10.1': 64515, '10.1.9.2': 64516, '10.1.19.2': 64518, '10.1.25.2': 64520, '10.1.8.1': 64522, '10.1.16.1': 64516, '10.1.20.2': 64517, '10.1.25.1': 64519, '10.1.21.2': 64518, '10.1.22.1': 64522, '10.1.8.2': 64519, '10.1.22.2': 64521, '10.1.24.2': 64523, '10.1.23.2': 64517, '10.1.24.1': 64522}\n"
     ]
    }
   ],
   "source": [
    "### network mappings\n",
    "asn_ip_mapping = {}\n",
    "asn_ip_mapping[64512] = {64514:\"10.1.12.2\",\\\n",
    "                    64515:\"10.1.15.1\"}\n",
    "asn_ip_mapping[64513] = {64516:\"10.1.13.2\",\\\n",
    "                    64517:\"10.1.17.1\"}\n",
    "asn_ip_mapping[64514] = {64512:\"10.1.12.1\",\\\n",
    "                    64518:\"10.1.14.2\"}\n",
    "asn_ip_mapping[64515] = {64512:\"10.1.15.2\",\\\n",
    "                    64516:\"10.1.11.1\",\\\n",
    "                    64518:\"10.1.18.1\",\\\n",
    "                    64519:\"10.1.10.2\"}\n",
    "asn_ip_mapping[64516] = {64513:\"10.1.13.1\",\\\n",
    "                    64515:\"10.1.11.2\",\\\n",
    "                    64519:\"10.1.9.1\",\\\n",
    "                    64520:\"10.1.16.2\"}\n",
    "asn_ip_mapping[64517] = {64513:\"10.1.17.2\",\\\n",
    "                        64520:\"10.1.20.1\"}\n",
    "asn_ip_mapping[64518] = {64514:\"10.1.14.1\",\\\n",
    "                    64515:\"10.1.18.2\",\\\n",
    "                    64519:\"10.1.19.1\",\\\n",
    "                    64520:\"10.1.21.1\"}\n",
    "asn_ip_mapping[64519] = {64515:\"10.1.10.1\",\n",
    "                    64516:\"10.1.9.2\",\\\n",
    "                    64518:\"10.1.19.2\",\\\n",
    "                    64520:\"10.1.25.2\",\\\n",
    "                    64522:\"10.1.8.1\"}\n",
    "asn_ip_mapping[64520] = {64516:\"10.1.16.1\",\\\n",
    "                    64517:\"10.1.20.2\",\\\n",
    "                    64519:\"10.1.25.1\"}\n",
    "asn_ip_mapping[64521] = {64518:\"10.1.21.2\",\\\n",
    "                    64522:\"10.1.22.1\"}\n",
    "asn_ip_mapping[64522] = {64519:\"10.1.8.2\",\\\n",
    "                    64521:\"10.1.22.2\",\\\n",
    "                    64523:\"10.1.24.2\"}\n",
    "asn_ip_mapping[64523] = {64517:\"10.1.23.2\",\\\n",
    "                        64522:\"10.1.24.1\"}\n",
    "subnets = {}\n",
    "for key, value in asn_ip_mapping.items():\n",
    "    for k,v in value.items():\n",
    "        subnets[v] = k\n",
    "print(subnets)\n",
    "\n",
    "subnets[\"10.0.12.1\"] = 64512\n",
    "subnets[\"10.0.13.1\"] = 64513\n",
    "subnets[\"10.0.21.1\"] = 64521"
   ]
  },
  {
   "cell_type": "markdown",
   "metadata": {},
   "source": [
    "# load experiment results"
   ]
  },
  {
   "cell_type": "code",
   "execution_count": 7,
   "metadata": {},
   "outputs": [],
   "source": [
    "def runExperiment(name=\"exp0\"):\n",
    "    expName = name\n",
    "    paths = []\n",
    "    for filename in os.listdir(\"./{}/\".format(expName)):\n",
    "        source = filename.split(\"_\")[0]\n",
    "        dest = filename.split(\"_\")[1][0:-3]\n",
    "        if source != dest:\n",
    "            path = [source]\n",
    "            with open(\"./{}/{}\".format(expName, filename), \"r\") as fp:\n",
    "                line = fp.readline()\n",
    "                print(line)\n",
    "                while(line):\n",
    "                    s = line.strip()[3:]\n",
    "                    if not \"ceroute\" in s:\n",
    "                        hop = s.split(\" \")[1].replace(\"(\",\"\").replace(\")\",\"\")\n",
    "                        if hop in subnets:\n",
    "                            path.append(subnets[hop])\n",
    "                        else:\n",
    "                            path.append(hop)\n",
    "                    line = fp.readline()\n",
    "            paths.append(path)\n",
    "    return paths"
   ]
  },
  {
   "cell_type": "code",
   "execution_count": 8,
   "metadata": {},
   "outputs": [],
   "source": [
    "hosts = {\"10.0.12.100\", \"10.0.13.100\", \"10.0.21.100\"}"
   ]
  },
  {
   "cell_type": "code",
   "execution_count": 6,
   "metadata": {},
   "outputs": [
    {
     "name": "stdout",
     "output_type": "stream",
     "text": [
      "censor Encounters 6 dropped paths 0\n"
     ]
    }
   ],
   "source": [
    "for expName in [\"exp0\", \"exp1\", \"exp2\", \"exp3\"]:\n",
    "    expNum = int(expName[-1])\n",
    "    paths = runExperiment(expName)\n",
    "    censorencounters = 0\n",
    "    droppedpaths = 0\n",
    "    censoredNodes = {64518, 64519, 64521}\n",
    "    packets_intercepted = {}\n",
    "    for p in paths:\n",
    "        if p[-1] not in hosts:\n",
    "            droppedpaths += 1\n",
    "        for asn in p:\n",
    "            if asn in censoredNodes:\n",
    "                try:\n",
    "                    packets_intercepted[asn] += 1\n",
    "                except:\n",
    "                    packets_intercepted[asn] = 1\n",
    "    print(\"{},{},{},{}\")"
   ]
  },
  {
   "cell_type": "code",
   "execution_count": null,
   "metadata": {},
   "outputs": [],
   "source": []
  }
 ],
 "metadata": {
  "kernelspec": {
   "display_name": "Python 3",
   "language": "python",
   "name": "python3"
  },
  "language_info": {
   "codemirror_mode": {
    "name": "ipython",
    "version": 3
   },
   "file_extension": ".py",
   "mimetype": "text/x-python",
   "name": "python",
   "nbconvert_exporter": "python",
   "pygments_lexer": "ipython3",
   "version": "3.9.0"
  }
 },
 "nbformat": 4,
 "nbformat_minor": 5
}
